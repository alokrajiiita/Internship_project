{
 "cells": [
  {
   "cell_type": "markdown",
   "metadata": {},
   "source": [
    "# Implement RFM customer segmentation for the customers in the file.\n",
    "Write pseudocode to find the best product(product recently purchased/product purchased the most times) for the customer.\n",
    "Refer this site for the RFM Analysis.\n",
    "\n",
    "https://www.putler.com/rfm-analysis/\n",
    "https://en.wikipedia.org/wiki/RFM_(customer_value)\n"
   ]
  },
  {
   "cell_type": "markdown",
   "metadata": {},
   "source": [
    "# Import these library, Panda, time, datetime and calender\n"
   ]
  },
  {
   "cell_type": "code",
   "execution_count": 3,
   "metadata": {},
   "outputs": [],
   "source": [
    "import pandas as pd\n",
    "import time\n",
    "import datetime, calendar"
   ]
  },
  {
   "cell_type": "markdown",
   "metadata": {},
   "source": [
    "List of Global veriables"
   ]
  },
  {
   "cell_type": "code",
   "execution_count": 4,
   "metadata": {},
   "outputs": [],
   "source": [
    "rfm_table = []\n",
    "most_list = []\n",
    "today = datetime.datetime.today()\n",
    "sample_set = 10\n",
    "product_list = []\n",
    "product_count = []\n",
    "product_name = []"
   ]
  },
  {
   "cell_type": "markdown",
   "metadata": {},
   "source": [
    "Utility Functions"
   ]
  },
  {
   "cell_type": "code",
   "execution_count": 5,
   "metadata": {},
   "outputs": [],
   "source": [
    "def assign_value_in_scale(num):\n",
    "    if num > 10:\n",
    "        return 10;\n",
    "    elif num < 1:\n",
    "        return 1\n",
    "    else:\n",
    "        return num"
   ]
  },
  {
   "cell_type": "code",
   "execution_count": 6,
   "metadata": {},
   "outputs": [],
   "source": [
    "def print_list(data, term):\n",
    "    print(\"*******************************\"+term+\"*******************************\")\n",
    "    for item in data:\n",
    "        print(item[0])"
   ]
  },
  {
   "cell_type": "markdown",
   "metadata": {},
   "source": [
    "Recency = the maximum of \"10 – the number of months that have passed since the customer last purchased\" and 1\n",
    "Frequency = the maximum of \"the number of purchases by the customer in the last 12 months (with a limit of 10)\" and 1\n",
    "Monetary = the highest value of all purchases by the customer expressed as a multiple of some benchmark value"
   ]
  },
  {
   "cell_type": "code",
   "execution_count": 7,
   "metadata": {},
   "outputs": [],
   "source": [
    "def make_rfm_table_utils(data, custid, index, size, max_money):\n",
    "    count =0\n",
    "    l_count = 0\n",
    "    order_id =[]\n",
    "    while index +count < size - 1:\n",
    "        if custid ==data[index+count][1]:\n",
    "            date_this = data[index+count][2].split()[0] \n",
    "            trans_date = datetime.datetime.strptime(date_this, \"%Y-%m-%d\")\n",
    "            if (today - trans_date).days > 366:\n",
    "                l_count += 1\n",
    "            count +=1\n",
    "            order_id.append(data[index+count][3])\n",
    "        else:\n",
    "            break\n",
    "    this_cust_data = data[index:index+count]\n",
    "    if this_cust_data != []:\n",
    "        maxR = max(this_cust_data)[0]\n",
    "        maxM= max(this_cust_data)[2]\n",
    "        idate = maxM.split()\n",
    "        date_leatest = datetime.datetime.strptime(idate[0], \"%Y-%m-%d\")\n",
    "        Recency = assign_value_in_scale(((today - date_leatest).days)/30)\n",
    "        Frequency = assign_value_in_scale(l_count)\n",
    "        Monetary = (maxR/max_money)*10\n",
    "        score = Recency+ Frequency+Monetary\n",
    "        this_cust = (custid, Recency, Frequency, Monetary, score, order_id)\n",
    "        rfm_table.append(this_cust)\n",
    "        return index+count\n",
    "    return index+count"
   ]
  },
  {
   "cell_type": "code",
   "execution_count": 8,
   "metadata": {},
   "outputs": [],
   "source": [
    "def make_rfm_table(data):\n",
    "    i = 0\n",
    "    data.sort(key = lambda x: x[1])\n",
    "    max_money = int(max(data)[0])\n",
    "    if max_money < 1:\n",
    "        max_money = 1\n",
    "    i = make_rfm_table_utils(data,data[i][1],0,len(data), max_money)\n",
    "    while i < len(data) -1:\n",
    "        i = make_rfm_table_utils(data,data[i][1],i,len(data),max_money)\n",
    "    "
   ]
  },
  {
   "cell_type": "markdown",
   "metadata": {},
   "source": [
    "Customer Segment\t                          Activity\t\n",
    "Champions\t              Bought recently, buy often and spend the most!\t\n",
    "Loyal Customers\t              Spend good money with us often. Responsive to promotions.\t\n",
    "Recent Customers\t      Bought most recently, but not often\n",
    "Promising\t              Recent shoppers, but haven’t spent much.\t\n",
    "Customers Needing Attention   Above average recency, frequency and monetary values. May not have bought very recently though..\t\n",
    "Lost\t                      Lowest recency, frequency and monetary scores."
   ]
  },
  {
   "cell_type": "code",
   "execution_count": 9,
   "metadata": {},
   "outputs": [],
   "source": [
    "def find_champion():\n",
    "    rfm_table.sort(key = lambda x: x[2]) \n",
    "    data = rfm_table[0:sample_set]\n",
    "    data = max(data)[3]\n",
    "    print(\"Champion customer is with id \")\n",
    "    print(data)"
   ]
  },
  {
   "cell_type": "code",
   "execution_count": 10,
   "metadata": {},
   "outputs": [],
   "source": [
    "def find_loyal():\n",
    "    rfm_table.sort(key = lambda x: x[2])\n",
    "    data = rfm_table[0:sample_set]\n",
    "    data.sort(key = lambda x: x[3])\n",
    "    print_list(data, \"List of Loyal customer id are as follow \")"
   ]
  },
  {
   "cell_type": "code",
   "execution_count": 11,
   "metadata": {},
   "outputs": [],
   "source": [
    "def find_recent():\n",
    "    rfm_table.sort(key = lambda x: x[1])\n",
    "    data = rfm_table[0:sample_set]\n",
    "    data.sort(key = lambda x: x[2])\n",
    "    print_list(data, \"List of recent customer id are as follow \")"
   ]
  },
  {
   "cell_type": "code",
   "execution_count": 12,
   "metadata": {},
   "outputs": [],
   "source": [
    "def find_promising():\n",
    "    rfm_table.sort(key = lambda x: x[1])\n",
    "    data = rfm_table[0:sample_set]\n",
    "    data.sort(key = lambda x: x[3], reverse= 1)\n",
    "    print_list(data, \"List of recent customer id are as follow \")"
   ]
  },
  {
   "cell_type": "code",
   "execution_count": 13,
   "metadata": {},
   "outputs": [],
   "source": [
    "def find_need_attention():\n",
    "    rfm_table.sort(key = lambda x: x[4])\n",
    "    data = rfm_table[0:sample_set]\n",
    "    data.sort(key = lambda x: x[3], reverse= 1)\n",
    "    print_list(data, \"List of recent customer id are as follow \")"
   ]
  },
  {
   "cell_type": "code",
   "execution_count": 14,
   "metadata": {},
   "outputs": [],
   "source": [
    "def find_lost():\n",
    "    rfm_table.sort(key = lambda x: x[4] ,reverse= 1)\n",
    "    data = rfm_table[0:sample_set]\n",
    "    data.sort(key = lambda x: x[0])\n",
    "    print_list(data, \"List of recent customer id are as follow \")"
   ]
  },
  {
   "cell_type": "markdown",
   "metadata": {},
   "source": [
    "Ask fo options for customer menu"
   ]
  },
  {
   "cell_type": "code",
   "execution_count": 15,
   "metadata": {},
   "outputs": [],
   "source": [
    "def options_cust():\n",
    "    user_input = input (\"Enter  your Option\")\n",
    "    try:\n",
    "       val = int(user_input)\n",
    "       if val ==1:\n",
    "           find_champion()\n",
    "       elif val ==2:\n",
    "           find_loyal()\n",
    "       elif val ==3:\n",
    "           find_recent()\n",
    "       elif val == 4:\n",
    "           find_promising()\n",
    "       elif val == 5:\n",
    "           find_need_attention()\n",
    "       elif val == 6:\n",
    "           find_lost()\n",
    "       elif val == 7:\n",
    "           product()\n",
    "    except ValueError:\n",
    "       return -1"
   ]
  },
  {
   "cell_type": "markdown",
   "metadata": {},
   "source": [
    "Customer menu on RFM creteria and its driver function"
   ]
  },
  {
   "cell_type": "code",
   "execution_count": 16,
   "metadata": {},
   "outputs": [],
   "source": [
    "def init_msg_cust():\n",
    "    print(\"**************************Customer menu***************************************\")\n",
    "    print(\"Enter Option for processing\")\n",
    "    print(\"1). Champions\")\n",
    "    print(\"2).Loyal Customers\")\n",
    "    print(\"3).Recent Customers\")\t     \n",
    "    print(\"4). Promising\")\t             \t\n",
    "    print(\"5). Customers Needing Attention\")   \t\n",
    "    print(\"6).Lost\")\n",
    "    print(\"7). Go to product menu\")\n",
    "    print(\"Press any other key to exit\")"
   ]
  },
  {
   "cell_type": "code",
   "execution_count": 17,
   "metadata": {},
   "outputs": [],
   "source": [
    "def customer():\n",
    "    init_msg_cust()\n",
    "    options_cust()"
   ]
  },
  {
   "cell_type": "markdown",
   "metadata": {},
   "source": [
    "Product List utilities"
   ]
  },
  {
   "cell_type": "code",
   "execution_count": 18,
   "metadata": {},
   "outputs": [],
   "source": [
    "def make_product_table_utils(data, custid, index, size):\n",
    "    count =0\n",
    "    while index +count < size - 1:\n",
    "        if custid ==data[index+count][0]:\n",
    "            count +=1\n",
    "        else:\n",
    "            break\n",
    "    temp = [custid, count]\n",
    "    product_count.append(temp)\n",
    "    return index+count\n"
   ]
  },
  {
   "cell_type": "code",
   "execution_count": 19,
   "metadata": {},
   "outputs": [],
   "source": [
    "def find_recent_purchese():\n",
    "    product_desc.sort(key = lambda x: x[1])\n",
    "    print_list(product_desc[0:sample_set], \"List of recent Product id are as follow \")"
   ]
  },
  {
   "cell_type": "code",
   "execution_count": 20,
   "metadata": {},
   "outputs": [],
   "source": [
    "def find_most_purchese():\n",
    "    product_count.sort(key = lambda x: x[1])\n",
    "    print_list(product_count[0:sample_set], \"List of recent Product id are as follow \")"
   ]
  },
  {
   "cell_type": "code",
   "execution_count": 21,
   "metadata": {},
   "outputs": [],
   "source": [
    "def make_product_table(data):\n",
    "    i = 0\n",
    "    data.sort(key = lambda x: x[0])\n",
    "    i = make_product_table_utils(data,data[i][0],0,len(data))\n",
    "    while i < len(data) -1:\n",
    "        i = make_product_table_utils(data,data[i][0],i,len(data))"
   ]
  },
  {
   "cell_type": "markdown",
   "metadata": {},
   "source": [
    "Product menu and its driver function"
   ]
  },
  {
   "cell_type": "code",
   "execution_count": 22,
   "metadata": {},
   "outputs": [],
   "source": [
    "def init_msg_prod():\n",
    "    print(\"**************************Product menu***************************************\")\n",
    "    print(\"Enter Option for processing\")\n",
    "    print(\"1). Most Purched\")\n",
    "    print(\"2).Recently purchesed\")\n",
    "    print(\"3) . Customer Menu\")\n",
    "    print(\"Press any other key to exit\")"
   ]
  },
  {
   "cell_type": "code",
   "execution_count": 23,
   "metadata": {},
   "outputs": [],
   "source": [
    "def product():\n",
    "    init_msg_prod()\n",
    "    options_prod()\n"
   ]
  },
  {
   "cell_type": "code",
   "execution_count": 24,
   "metadata": {},
   "outputs": [],
   "source": [
    "def options_prod():\n",
    "    user_input = input (\"Enter  your Option\")\n",
    "    try:\n",
    "       val = int(user_input)\n",
    "       if val ==1:\n",
    "           find_most_purchese()\n",
    "       elif val ==2:\n",
    "           find_recent_purchese()\n",
    "       elif val == 3:\n",
    "           customer()\n",
    "    except ValueError:\n",
    "       return -1"
   ]
  },
  {
   "cell_type": "markdown",
   "metadata": {},
   "source": [
    "Driver Function or main function"
   ]
  },
  {
   "cell_type": "code",
   "execution_count": null,
   "metadata": {},
   "outputs": [
    {
     "name": "stdout",
     "output_type": "stream",
     "text": [
      "**********************Start Menu********************\n",
      "Select the menu\n",
      "1). Customer Menu\n",
      "2). Product Menu\n",
      "Enter  your Option2\n",
      "**************************Product menu***************************************\n",
      "Enter Option for processing\n",
      "1). Most Purched\n",
      "2).Recently purchesed\n",
      "Press any other key to exit\n",
      "Enter  your Option1\n",
      "*******************************List of recent Product id are as follow *******************************\n",
      "542793\n",
      "725653\n",
      "560611\n",
      "542458\n",
      "542464\n",
      "542465\n",
      "560610\n",
      "542799\n",
      "542803\n",
      "544517\n",
      "**************************Product menu***************************************\n",
      "Enter Option for processing\n",
      "1). Most Purched\n",
      "2).Recently purchesed\n",
      "Press any other key to exit\n",
      "Enter  your Option2\n",
      "*******************************List of recent Product id are as follow *******************************\n",
      "542428\n",
      "542433\n",
      "542434\n",
      "542435\n",
      "542436\n",
      "542443\n",
      "542445\n",
      "542787\n",
      "542445\n",
      "542451\n",
      "**************************Product menu***************************************\n",
      "Enter Option for processing\n",
      "1). Most Purched\n",
      "2).Recently purchesed\n",
      "Press any other key to exit\n",
      "Enter  your Option\n",
      "**************************Product menu***************************************\n",
      "Enter Option for processing\n",
      "1). Most Purched\n",
      "2).Recently purchesed\n",
      "Press any other key to exit\n",
      "Enter  your Optionq\n",
      "**************************Product menu***************************************\n",
      "Enter Option for processing\n",
      "1). Most Purched\n",
      "2).Recently purchesed\n",
      "Press any other key to exit\n",
      "Enter  your Optionq\n",
      "**************************Product menu***************************************\n",
      "Enter Option for processing\n",
      "1). Most Purched\n",
      "2).Recently purchesed\n",
      "Press any other key to exit\n",
      "Enter  your Option3\n",
      "**************************Customer menu***************************************\n",
      "Enter Option for processing\n",
      "1). Champions\n",
      "2).Loyal Customers\n",
      "3).Recent Customers\n",
      "4). Promising\n",
      "5). Customers Needing Attention\n",
      "6).Lost\n",
      "7). Go to product menu\n",
      "Press any other key to exit\n",
      "Enter  your Option5\n",
      "*******************************List of recent customer id are as follow *******************************\n",
      "9264847\n",
      "8691643\n",
      "9359668\n",
      "10419689\n",
      "11479493\n",
      "10967034\n",
      "11650872\n",
      "10766809\n",
      "8476625\n",
      "11788107\n",
      "**************************Product menu***************************************\n",
      "Enter Option for processing\n",
      "1). Most Purched\n",
      "2).Recently purchesed\n",
      "Press any other key to exit\n"
     ]
    }
   ],
   "source": [
    "if __name__ == \"__main__\":\n",
    "    data = pd.read_csv(\"customer_order_history.csv\")\n",
    "    i = 0\n",
    "    product_csv = pd.read_csv(\"product_order_data.csv\")\n",
    "    product_name = pd.read_csv(\"product.csv\")\n",
    "    while i< data.amount.size:\n",
    "        temp = (data.amount[i],data.customerId[i],data.orderDate[i],data.orderId[i])\n",
    "        i = i+1\n",
    "        most_list.append(temp)\n",
    "    make_rfm_table(most_list)\n",
    "    j =0\n",
    "    product_desc = []\n",
    "    while j<product_csv.product_id.size:\n",
    "        local_data = [product_csv.product_id[j],product_csv.event_date[j], product_csv.event_id[j]]\n",
    "        product_desc.append(local_data)\n",
    "        j += 1\n",
    "    product_list = product_desc\n",
    "    make_product_table(product_desc)\n",
    "    print(\"**********************Start Menu********************\")\n",
    "    print(\"Select the menu\")\n",
    "    print(\"1). Customer Menu\")\n",
    "    print(\"2). Product Menu\")\n",
    "    user_input = input (\"Enter  your Option\")\n",
    "    value = 0\n",
    "    while 1:   \n",
    "        try:\n",
    "            val = int(user_input)\n",
    "            if val ==1:\n",
    "                customer()\n",
    "            else:\n",
    "                product()\n",
    "            if value == -1:\n",
    "                break\n",
    "        except ValueError:\n",
    "            print(\"Correct your input\")\n",
    "            break\n"
   ]
  },
  {
   "cell_type": "code",
   "execution_count": null,
   "metadata": {},
   "outputs": [],
   "source": []
  }
 ],
 "metadata": {
  "kernelspec": {
   "display_name": "Python 3",
   "language": "python",
   "name": "python3"
  },
  "language_info": {
   "codemirror_mode": {
    "name": "ipython",
    "version": 3
   },
   "file_extension": ".py",
   "mimetype": "text/x-python",
   "name": "python",
   "nbconvert_exporter": "python",
   "pygments_lexer": "ipython3",
   "version": "3.7.2"
  }
 },
 "nbformat": 4,
 "nbformat_minor": 2
}
